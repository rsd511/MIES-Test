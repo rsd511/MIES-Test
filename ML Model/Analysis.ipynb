{
 "cells": [
  {
   "cell_type": "markdown",
   "metadata": {},
   "source": [
    "# Importing Libraries"
   ]
  },
  {
   "cell_type": "code",
   "execution_count": 1,
   "metadata": {},
   "outputs": [],
   "source": [
    "import numpy as np\n",
    "import pandas as pd\n",
    "import matplotlib.pyplot as plt\n",
    "import seaborn as sns\n",
    "%matplotlib inline"
   ]
  },
  {
   "cell_type": "markdown",
   "metadata": {},
   "source": [
    "# Importing Dataset"
   ]
  },
  {
   "cell_type": "code",
   "execution_count": 2,
   "metadata": {},
   "outputs": [],
   "source": [
    "data = pd.read_csv('MIES_Dev_Data/data.csv', '\\t')"
   ]
  },
  {
   "cell_type": "code",
   "execution_count": 3,
   "metadata": {},
   "outputs": [
    {
     "data": {
      "text/html": [
       "<div>\n",
       "<style scoped>\n",
       "    .dataframe tbody tr th:only-of-type {\n",
       "        vertical-align: middle;\n",
       "    }\n",
       "\n",
       "    .dataframe tbody tr th {\n",
       "        vertical-align: top;\n",
       "    }\n",
       "\n",
       "    .dataframe thead th {\n",
       "        text-align: right;\n",
       "    }\n",
       "</style>\n",
       "<table border=\"1\" class=\"dataframe\">\n",
       "  <thead>\n",
       "    <tr style=\"text-align: right;\">\n",
       "      <th></th>\n",
       "      <th>Q1A</th>\n",
       "      <th>Q1I</th>\n",
       "      <th>Q1E</th>\n",
       "      <th>Q2A</th>\n",
       "      <th>Q2I</th>\n",
       "      <th>Q2E</th>\n",
       "      <th>Q3A</th>\n",
       "      <th>Q3I</th>\n",
       "      <th>Q3E</th>\n",
       "      <th>Q4A</th>\n",
       "      <th>...</th>\n",
       "      <th>Q91E</th>\n",
       "      <th>country</th>\n",
       "      <th>dateload</th>\n",
       "      <th>introelapse</th>\n",
       "      <th>testelapse</th>\n",
       "      <th>surveyelapse</th>\n",
       "      <th>gender</th>\n",
       "      <th>engnat</th>\n",
       "      <th>age</th>\n",
       "      <th>IE</th>\n",
       "    </tr>\n",
       "  </thead>\n",
       "  <tbody>\n",
       "    <tr>\n",
       "      <th>0</th>\n",
       "      <td>5</td>\n",
       "      <td>51</td>\n",
       "      <td>7107</td>\n",
       "      <td>3</td>\n",
       "      <td>91</td>\n",
       "      <td>2522</td>\n",
       "      <td>1</td>\n",
       "      <td>56</td>\n",
       "      <td>6180</td>\n",
       "      <td>2</td>\n",
       "      <td>...</td>\n",
       "      <td>4609</td>\n",
       "      <td>US</td>\n",
       "      <td>2019-02-20 17:35:52</td>\n",
       "      <td>1</td>\n",
       "      <td>461</td>\n",
       "      <td>16</td>\n",
       "      <td>2</td>\n",
       "      <td>1</td>\n",
       "      <td>23</td>\n",
       "      <td>3</td>\n",
       "    </tr>\n",
       "    <tr>\n",
       "      <th>1</th>\n",
       "      <td>5</td>\n",
       "      <td>39</td>\n",
       "      <td>6354</td>\n",
       "      <td>5</td>\n",
       "      <td>13</td>\n",
       "      <td>3092</td>\n",
       "      <td>1</td>\n",
       "      <td>12</td>\n",
       "      <td>5243</td>\n",
       "      <td>5</td>\n",
       "      <td>...</td>\n",
       "      <td>10409</td>\n",
       "      <td>AU</td>\n",
       "      <td>2019-02-20 17:46:32</td>\n",
       "      <td>21</td>\n",
       "      <td>467</td>\n",
       "      <td>15</td>\n",
       "      <td>1</td>\n",
       "      <td>2</td>\n",
       "      <td>25</td>\n",
       "      <td>2</td>\n",
       "    </tr>\n",
       "    <tr>\n",
       "      <th>2</th>\n",
       "      <td>3</td>\n",
       "      <td>17</td>\n",
       "      <td>5397</td>\n",
       "      <td>4</td>\n",
       "      <td>35</td>\n",
       "      <td>2747</td>\n",
       "      <td>5</td>\n",
       "      <td>40</td>\n",
       "      <td>5262</td>\n",
       "      <td>3</td>\n",
       "      <td>...</td>\n",
       "      <td>2691</td>\n",
       "      <td>BR</td>\n",
       "      <td>2019-02-20 18:10:24</td>\n",
       "      <td>56</td>\n",
       "      <td>306</td>\n",
       "      <td>17</td>\n",
       "      <td>1</td>\n",
       "      <td>2</td>\n",
       "      <td>19</td>\n",
       "      <td>1</td>\n",
       "    </tr>\n",
       "    <tr>\n",
       "      <th>3</th>\n",
       "      <td>5</td>\n",
       "      <td>41</td>\n",
       "      <td>3055</td>\n",
       "      <td>2</td>\n",
       "      <td>14</td>\n",
       "      <td>3348</td>\n",
       "      <td>1</td>\n",
       "      <td>13</td>\n",
       "      <td>5141</td>\n",
       "      <td>1</td>\n",
       "      <td>...</td>\n",
       "      <td>3697</td>\n",
       "      <td>CZ</td>\n",
       "      <td>2019-02-20 18:16:21</td>\n",
       "      <td>2</td>\n",
       "      <td>287</td>\n",
       "      <td>14</td>\n",
       "      <td>1</td>\n",
       "      <td>1</td>\n",
       "      <td>23</td>\n",
       "      <td>1</td>\n",
       "    </tr>\n",
       "    <tr>\n",
       "      <th>4</th>\n",
       "      <td>1</td>\n",
       "      <td>76</td>\n",
       "      <td>2542</td>\n",
       "      <td>2</td>\n",
       "      <td>54</td>\n",
       "      <td>1878</td>\n",
       "      <td>1</td>\n",
       "      <td>15</td>\n",
       "      <td>5637</td>\n",
       "      <td>1</td>\n",
       "      <td>...</td>\n",
       "      <td>1662</td>\n",
       "      <td>CA</td>\n",
       "      <td>2019-02-20 18:21:49</td>\n",
       "      <td>2</td>\n",
       "      <td>325</td>\n",
       "      <td>12</td>\n",
       "      <td>1</td>\n",
       "      <td>1</td>\n",
       "      <td>18</td>\n",
       "      <td>2</td>\n",
       "    </tr>\n",
       "  </tbody>\n",
       "</table>\n",
       "<p>5 rows × 282 columns</p>\n",
       "</div>"
      ],
      "text/plain": [
       "   Q1A  Q1I   Q1E  Q2A  Q2I   Q2E  Q3A  Q3I   Q3E  Q4A  ...   Q91E  country  \\\n",
       "0    5   51  7107    3   91  2522    1   56  6180    2  ...   4609       US   \n",
       "1    5   39  6354    5   13  3092    1   12  5243    5  ...  10409       AU   \n",
       "2    3   17  5397    4   35  2747    5   40  5262    3  ...   2691       BR   \n",
       "3    5   41  3055    2   14  3348    1   13  5141    1  ...   3697       CZ   \n",
       "4    1   76  2542    2   54  1878    1   15  5637    1  ...   1662       CA   \n",
       "\n",
       "              dateload  introelapse  testelapse  surveyelapse  gender  engnat  \\\n",
       "0  2019-02-20 17:35:52            1         461            16       2       1   \n",
       "1  2019-02-20 17:46:32           21         467            15       1       2   \n",
       "2  2019-02-20 18:10:24           56         306            17       1       2   \n",
       "3  2019-02-20 18:16:21            2         287            14       1       1   \n",
       "4  2019-02-20 18:21:49            2         325            12       1       1   \n",
       "\n",
       "   age  IE  \n",
       "0   23   3  \n",
       "1   25   2  \n",
       "2   19   1  \n",
       "3   23   1  \n",
       "4   18   2  \n",
       "\n",
       "[5 rows x 282 columns]"
      ]
     },
     "execution_count": 3,
     "metadata": {},
     "output_type": "execute_result"
    }
   ],
   "source": [
    "data.head()"
   ]
  },
  {
   "cell_type": "code",
   "execution_count": 4,
   "metadata": {},
   "outputs": [
    {
     "name": "stdout",
     "output_type": "stream",
     "text": [
      "Q1A Q1I Q1E Q2A Q2I Q2E Q3A Q3I Q3E Q4A Q4I Q4E Q5A Q5I Q5E Q6A Q6I Q6E Q7A Q7I Q7E Q8A Q8I Q8E Q9A Q9I Q9E Q10A Q10I Q10E Q11A Q11I Q11E Q12A Q12I Q12E Q13A Q13I Q13E Q14A Q14I Q14E Q15A Q15I Q15E Q16A Q16I Q16E Q17A Q17I Q17E Q18A Q18I Q18E Q19A Q19I Q19E Q20A Q20I Q20E Q21A Q21I Q21E Q22A Q22I Q22E Q23A Q23I Q23E Q24A Q24I Q24E Q25A Q25I Q25E Q26A Q26I Q26E Q27A Q27I Q27E Q28A Q28I Q28E Q29A Q29I Q29E Q30A Q30I Q30E Q31A Q31I Q31E Q32A Q32I Q32E Q33A Q33I Q33E Q34A Q34I Q34E Q35A Q35I Q35E Q36A Q36I Q36E Q37A Q37I Q37E Q38A Q38I Q38E Q39A Q39I Q39E Q40A Q40I Q40E Q41A Q41I Q41E Q42A Q42I Q42E Q43A Q43I Q43E Q44A Q44I Q44E Q45A Q45I Q45E Q46A Q46I Q46E Q47A Q47I Q47E Q48A Q48I Q48E Q49A Q49I Q49E Q50A Q50I Q50E Q51A Q51I Q51E Q52A Q52I Q52E Q53A Q53I Q53E Q54A Q54I Q54E Q55A Q55I Q55E Q56A Q56I Q56E Q57A Q57I Q57E Q58A Q58I Q58E Q59A Q59I Q59E Q60A Q60I Q60E Q61A Q61I Q61E Q62A Q62I Q62E Q63A Q63I Q63E Q64A Q64I Q64E Q65A Q65I Q65E Q66A Q66I Q66E Q67A Q67I Q67E Q68A Q68I Q68E Q69A Q69I Q69E Q70A Q70I Q70E Q71A Q71I Q71E Q72A Q72I Q72E Q73A Q73I Q73E Q74A Q74I Q74E Q75A Q75I Q75E Q76A Q76I Q76E Q77A Q77I Q77E Q78A Q78I Q78E Q79A Q79I Q79E Q80A Q80I Q80E Q81A Q81I Q81E Q82A Q82I Q82E Q83A Q83I Q83E Q84A Q84I Q84E Q85A Q85I Q85E Q86A Q86I Q86E Q87A Q87I Q87E Q88A Q88I Q88E Q89A Q89I Q89E Q90A Q90I Q90E Q91A Q91I Q91E country dateload introelapse testelapse surveyelapse gender engnat age IE "
     ]
    }
   ],
   "source": [
    "for column in data.columns:\n",
    "    print(column, end = \" \")"
   ]
  },
  {
   "cell_type": "markdown",
   "metadata": {},
   "source": [
    "# Feature Analysis"
   ]
  },
  {
   "cell_type": "markdown",
   "metadata": {},
   "source": [
    "According to the codebook provided by the following study: https://openpsychometrics.org/tests/MIES/development/,\n",
    "which is present in the **./MIES_Dev_Data** directory, \n",
    "\n",
    "**Q(Integer)A** features represent te response of the user  \n",
    "**Q(Integer)I** features stand for the position of the questions in the survey which were randomized  \n",
    "**Q(Integer)E** features stand for the time elapsed for the question to be answered  \n",
    "      \n",
    "Clearly we don't require the **Q(Integer)I** features for the prediction algorithm  \n",
    "**Q(Integer)E** features can contribute unstable results and is irreliable as the user might take varying time for multiple reasons  "
   ]
  },
  {
   "cell_type": "code",
   "execution_count": 5,
   "metadata": {},
   "outputs": [
    {
     "name": "stdout",
     "output_type": "stream",
     "text": [
      "['Q1I', 'Q1E', 'Q2I', 'Q2E', 'Q3I', 'Q3E', 'Q4I', 'Q4E', 'Q5I', 'Q5E', 'Q6I', 'Q6E', 'Q7I', 'Q7E', 'Q8I', 'Q8E', 'Q9I', 'Q9E', 'Q10I', 'Q10E', 'Q11I', 'Q11E', 'Q12I', 'Q12E', 'Q13I', 'Q13E', 'Q14I', 'Q14E', 'Q15I', 'Q15E', 'Q16I', 'Q16E', 'Q17I', 'Q17E', 'Q18I', 'Q18E', 'Q19I', 'Q19E', 'Q20I', 'Q20E', 'Q21I', 'Q21E', 'Q22I', 'Q22E', 'Q23I', 'Q23E', 'Q24I', 'Q24E', 'Q25I', 'Q25E', 'Q26I', 'Q26E', 'Q27I', 'Q27E', 'Q28I', 'Q28E', 'Q29I', 'Q29E', 'Q30I', 'Q30E', 'Q31I', 'Q31E', 'Q32I', 'Q32E', 'Q33I', 'Q33E', 'Q34I', 'Q34E', 'Q35I', 'Q35E', 'Q36I', 'Q36E', 'Q37I', 'Q37E', 'Q38I', 'Q38E', 'Q39I', 'Q39E', 'Q40I', 'Q40E', 'Q41I', 'Q41E', 'Q42I', 'Q42E', 'Q43I', 'Q43E', 'Q44I', 'Q44E', 'Q45I', 'Q45E', 'Q46I', 'Q46E', 'Q47I', 'Q47E', 'Q48I', 'Q48E', 'Q49I', 'Q49E', 'Q50I', 'Q50E', 'Q51I', 'Q51E', 'Q52I', 'Q52E', 'Q53I', 'Q53E', 'Q54I', 'Q54E', 'Q55I', 'Q55E', 'Q56I', 'Q56E', 'Q57I', 'Q57E', 'Q58I', 'Q58E', 'Q59I', 'Q59E', 'Q60I', 'Q60E', 'Q61I', 'Q61E', 'Q62I', 'Q62E', 'Q63I', 'Q63E', 'Q64I', 'Q64E', 'Q65I', 'Q65E', 'Q66I', 'Q66E', 'Q67I', 'Q67E', 'Q68I', 'Q68E', 'Q69I', 'Q69E', 'Q70I', 'Q70E', 'Q71I', 'Q71E', 'Q72I', 'Q72E', 'Q73I', 'Q73E', 'Q74I', 'Q74E', 'Q75I', 'Q75E', 'Q76I', 'Q76E', 'Q77I', 'Q77E', 'Q78I', 'Q78E', 'Q79I', 'Q79E', 'Q80I', 'Q80E', 'Q81I', 'Q81E', 'Q82I', 'Q82E', 'Q83I', 'Q83E', 'Q84I', 'Q84E', 'Q85I', 'Q85E', 'Q86I', 'Q86E', 'Q87I', 'Q87E', 'Q88I', 'Q88E', 'Q89I', 'Q89E', 'Q90I', 'Q90E', 'Q91I', 'Q91E']\n"
     ]
    }
   ],
   "source": [
    "# Features to be dropped\n",
    "target = [column for column in data.columns if (column[0] == 'Q' and (column[-1] == 'I' or column[-1] == 'E'))]\n",
    "print(target)"
   ]
  },
  {
   "cell_type": "code",
   "execution_count": 6,
   "metadata": {},
   "outputs": [
    {
     "name": "stdout",
     "output_type": "stream",
     "text": [
      "Q1A Q2A Q3A Q4A Q5A Q6A Q7A Q8A Q9A Q10A Q11A Q12A Q13A Q14A Q15A Q16A Q17A Q18A Q19A Q20A Q21A Q22A Q23A Q24A Q25A Q26A Q27A Q28A Q29A Q30A Q31A Q32A Q33A Q34A Q35A Q36A Q37A Q38A Q39A Q40A Q41A Q42A Q43A Q44A Q45A Q46A Q47A Q48A Q49A Q50A Q51A Q52A Q53A Q54A Q55A Q56A Q57A Q58A Q59A Q60A Q61A Q62A Q63A Q64A Q65A Q66A Q67A Q68A Q69A Q70A Q71A Q72A Q73A Q74A Q75A Q76A Q77A Q78A Q79A Q80A Q81A Q82A Q83A Q84A Q85A Q86A Q87A Q88A Q89A Q90A Q91A country dateload introelapse testelapse surveyelapse gender engnat age IE "
     ]
    }
   ],
   "source": [
    "data.drop(target, axis = 1, inplace = True)\n",
    "for column in data.columns:\n",
    "    print(column, end = \" \")"
   ]
  },
  {
   "cell_type": "markdown",
   "metadata": {},
   "source": [
    "##### We also don't require the following features for obvious reasons (Access the codebook mentioned above for clarification)\n",
    "country, dateload, introelapse, testelapse, surveyelapse, engnat  \n"
   ]
  },
  {
   "cell_type": "code",
   "execution_count": 7,
   "metadata": {},
   "outputs": [],
   "source": [
    "data.drop(['country', 'dateload', 'introelapse', 'testelapse', 'surveyelapse', 'engnat'], axis = 1, inplace = True)"
   ]
  },
  {
   "cell_type": "markdown",
   "metadata": {},
   "source": [
    "**Gender** & **Age** might be able to contribute some insights into this prediction  \n",
    "**IE** is our target output  \n",
    "IE == 1 -> Introvert  \n",
    "IE == 2 -> Extravert  \n",
    "IE == 3 -> Ambivert  \n"
   ]
  },
  {
   "cell_type": "code",
   "execution_count": 8,
   "metadata": {},
   "outputs": [
    {
     "data": {
      "text/html": [
       "<div>\n",
       "<style scoped>\n",
       "    .dataframe tbody tr th:only-of-type {\n",
       "        vertical-align: middle;\n",
       "    }\n",
       "\n",
       "    .dataframe tbody tr th {\n",
       "        vertical-align: top;\n",
       "    }\n",
       "\n",
       "    .dataframe thead th {\n",
       "        text-align: right;\n",
       "    }\n",
       "</style>\n",
       "<table border=\"1\" class=\"dataframe\">\n",
       "  <thead>\n",
       "    <tr style=\"text-align: right;\">\n",
       "      <th></th>\n",
       "      <th>Q1A</th>\n",
       "      <th>Q2A</th>\n",
       "      <th>Q3A</th>\n",
       "      <th>Q4A</th>\n",
       "      <th>Q5A</th>\n",
       "      <th>Q6A</th>\n",
       "      <th>Q7A</th>\n",
       "      <th>Q8A</th>\n",
       "      <th>Q9A</th>\n",
       "      <th>Q10A</th>\n",
       "      <th>...</th>\n",
       "      <th>Q85A</th>\n",
       "      <th>Q86A</th>\n",
       "      <th>Q87A</th>\n",
       "      <th>Q88A</th>\n",
       "      <th>Q89A</th>\n",
       "      <th>Q90A</th>\n",
       "      <th>Q91A</th>\n",
       "      <th>gender</th>\n",
       "      <th>age</th>\n",
       "      <th>IE</th>\n",
       "    </tr>\n",
       "  </thead>\n",
       "  <tbody>\n",
       "    <tr>\n",
       "      <th>0</th>\n",
       "      <td>5</td>\n",
       "      <td>3</td>\n",
       "      <td>1</td>\n",
       "      <td>2</td>\n",
       "      <td>3</td>\n",
       "      <td>2</td>\n",
       "      <td>3</td>\n",
       "      <td>3</td>\n",
       "      <td>4</td>\n",
       "      <td>5</td>\n",
       "      <td>...</td>\n",
       "      <td>1</td>\n",
       "      <td>4</td>\n",
       "      <td>2</td>\n",
       "      <td>5</td>\n",
       "      <td>4</td>\n",
       "      <td>3</td>\n",
       "      <td>3</td>\n",
       "      <td>2</td>\n",
       "      <td>23</td>\n",
       "      <td>3</td>\n",
       "    </tr>\n",
       "    <tr>\n",
       "      <th>1</th>\n",
       "      <td>5</td>\n",
       "      <td>5</td>\n",
       "      <td>1</td>\n",
       "      <td>5</td>\n",
       "      <td>2</td>\n",
       "      <td>2</td>\n",
       "      <td>5</td>\n",
       "      <td>2</td>\n",
       "      <td>1</td>\n",
       "      <td>3</td>\n",
       "      <td>...</td>\n",
       "      <td>2</td>\n",
       "      <td>1</td>\n",
       "      <td>3</td>\n",
       "      <td>4</td>\n",
       "      <td>4</td>\n",
       "      <td>4</td>\n",
       "      <td>3</td>\n",
       "      <td>1</td>\n",
       "      <td>25</td>\n",
       "      <td>2</td>\n",
       "    </tr>\n",
       "    <tr>\n",
       "      <th>2</th>\n",
       "      <td>3</td>\n",
       "      <td>4</td>\n",
       "      <td>5</td>\n",
       "      <td>3</td>\n",
       "      <td>4</td>\n",
       "      <td>5</td>\n",
       "      <td>5</td>\n",
       "      <td>5</td>\n",
       "      <td>5</td>\n",
       "      <td>5</td>\n",
       "      <td>...</td>\n",
       "      <td>5</td>\n",
       "      <td>4</td>\n",
       "      <td>5</td>\n",
       "      <td>3</td>\n",
       "      <td>2</td>\n",
       "      <td>1</td>\n",
       "      <td>1</td>\n",
       "      <td>1</td>\n",
       "      <td>19</td>\n",
       "      <td>1</td>\n",
       "    </tr>\n",
       "    <tr>\n",
       "      <th>3</th>\n",
       "      <td>5</td>\n",
       "      <td>2</td>\n",
       "      <td>1</td>\n",
       "      <td>1</td>\n",
       "      <td>5</td>\n",
       "      <td>5</td>\n",
       "      <td>5</td>\n",
       "      <td>4</td>\n",
       "      <td>4</td>\n",
       "      <td>2</td>\n",
       "      <td>...</td>\n",
       "      <td>5</td>\n",
       "      <td>3</td>\n",
       "      <td>5</td>\n",
       "      <td>4</td>\n",
       "      <td>4</td>\n",
       "      <td>3</td>\n",
       "      <td>3</td>\n",
       "      <td>1</td>\n",
       "      <td>23</td>\n",
       "      <td>1</td>\n",
       "    </tr>\n",
       "    <tr>\n",
       "      <th>4</th>\n",
       "      <td>1</td>\n",
       "      <td>2</td>\n",
       "      <td>1</td>\n",
       "      <td>1</td>\n",
       "      <td>3</td>\n",
       "      <td>3</td>\n",
       "      <td>5</td>\n",
       "      <td>1</td>\n",
       "      <td>3</td>\n",
       "      <td>4</td>\n",
       "      <td>...</td>\n",
       "      <td>1</td>\n",
       "      <td>3</td>\n",
       "      <td>1</td>\n",
       "      <td>2</td>\n",
       "      <td>5</td>\n",
       "      <td>5</td>\n",
       "      <td>5</td>\n",
       "      <td>1</td>\n",
       "      <td>18</td>\n",
       "      <td>2</td>\n",
       "    </tr>\n",
       "  </tbody>\n",
       "</table>\n",
       "<p>5 rows × 94 columns</p>\n",
       "</div>"
      ],
      "text/plain": [
       "   Q1A  Q2A  Q3A  Q4A  Q5A  Q6A  Q7A  Q8A  Q9A  Q10A  ...  Q85A  Q86A  Q87A  \\\n",
       "0    5    3    1    2    3    2    3    3    4     5  ...     1     4     2   \n",
       "1    5    5    1    5    2    2    5    2    1     3  ...     2     1     3   \n",
       "2    3    4    5    3    4    5    5    5    5     5  ...     5     4     5   \n",
       "3    5    2    1    1    5    5    5    4    4     2  ...     5     3     5   \n",
       "4    1    2    1    1    3    3    5    1    3     4  ...     1     3     1   \n",
       "\n",
       "   Q88A  Q89A  Q90A  Q91A  gender  age  IE  \n",
       "0     5     4     3     3       2   23   3  \n",
       "1     4     4     4     3       1   25   2  \n",
       "2     3     2     1     1       1   19   1  \n",
       "3     4     4     3     3       1   23   1  \n",
       "4     2     5     5     5       1   18   2  \n",
       "\n",
       "[5 rows x 94 columns]"
      ]
     },
     "execution_count": 8,
     "metadata": {},
     "output_type": "execute_result"
    }
   ],
   "source": [
    "data.head()"
   ]
  },
  {
   "cell_type": "markdown",
   "metadata": {},
   "source": [
    "#### We don't need to scale the data since the values are close to each other, also we don't need to One-Hot-Encode the data since it is supposed to be ordinal"
   ]
  },
  {
   "cell_type": "markdown",
   "metadata": {},
   "source": [
    "## Examining the output"
   ]
  },
  {
   "cell_type": "code",
   "execution_count": 9,
   "metadata": {},
   "outputs": [
    {
     "data": {
      "text/plain": [
       "array([3, 2, 1, 0])"
      ]
     },
     "execution_count": 9,
     "metadata": {},
     "output_type": "execute_result"
    }
   ],
   "source": [
    "data['IE'].unique()"
   ]
  },
  {
   "cell_type": "markdown",
   "metadata": {},
   "source": [
    "### According to the codebook, IE == 0 should not be present"
   ]
  },
  {
   "cell_type": "code",
   "execution_count": 10,
   "metadata": {},
   "outputs": [],
   "source": [
    "# rows to be deleted\n",
    "target = [i for i in range(len(data)) if data['IE'][i] == 0]"
   ]
  },
  {
   "cell_type": "code",
   "execution_count": 11,
   "metadata": {},
   "outputs": [
    {
     "name": "stdout",
     "output_type": "stream",
     "text": [
      "The percentage of missing IE data is : 0.3478018920422927\n"
     ]
    }
   ],
   "source": [
    "print(\"The percentage of missing IE data is :\", (len(target) * 100) / len(data))"
   ]
  },
  {
   "cell_type": "code",
   "execution_count": 12,
   "metadata": {},
   "outputs": [],
   "source": [
    "# Deleting the rows\n",
    "data.drop(target, axis = 0, inplace = True)\n",
    "data = data.reset_index(drop = True)"
   ]
  },
  {
   "cell_type": "markdown",
   "metadata": {},
   "source": [
    "# Missing values"
   ]
  },
  {
   "cell_type": "code",
   "execution_count": 13,
   "metadata": {
    "scrolled": true
   },
   "outputs": [
    {
     "data": {
      "image/png": "[encoded data removed]",
      "text/plain": [
       "<Figure size 1008x360 with 2 Axes>"
      ]
     },
     "metadata": {
      "needs_background": "light"
     },
     "output_type": "display_data"
    }
   ],
   "source": [
    "plt.figure(figsize = (14,5))\n",
    "sns.heatmap(data.isna(), cmap = 'viridis')\n",
    "plt.show()"
   ]
  },
  {
   "cell_type": "code",
   "execution_count": 14,
   "metadata": {},
   "outputs": [],
   "source": [
    "data_is_na = data.isna().copy()\n",
    "for column in data_is_na.columns:\n",
    "    if True in data_is_na[column].unique():\n",
    "        print(\"Missing Data Present\")"
   ]
  },
  {
   "cell_type": "markdown",
   "metadata": {},
   "source": [
    "### Hence, there is no missing data"
   ]
  },
  {
   "cell_type": "markdown",
   "metadata": {},
   "source": [
    "# Analysis of remaining data"
   ]
  },
  {
   "cell_type": "code",
   "execution_count": 15,
   "metadata": {},
   "outputs": [
    {
     "data": {
      "text/plain": [
       "array([2, 1, 3, 0])"
      ]
     },
     "execution_count": 15,
     "metadata": {},
     "output_type": "execute_result"
    }
   ],
   "source": [
    "data['gender'].unique()"
   ]
  },
  {
   "cell_type": "markdown",
   "metadata": {},
   "source": [
    "### gender == 0 can be classified into \"Rather not say\""
   ]
  },
  {
   "cell_type": "code",
   "execution_count": 16,
   "metadata": {},
   "outputs": [
    {
     "name": "stdout",
     "output_type": "stream",
     "text": [
      "Ages : [14, 15, 16, 17, 18, 19, 20, 21, 22, 23, 24, 25, 26, 27, 28, 29, 30, 31, 32, 33, 34, 35, 36, 37, 38, 39, 40, 41, 42, 43, 44, 45, 46, 47, 48, 49, 50, 51, 52, 53, 54, 55, 56, 57, 58, 59, 60, 61, 62, 63, 64, 65, 66, 67, 68, 69, 70, 71, 72, 73, 75, 77, 78, 79, 81, 90, 255, 1979, 1983, 1990, 1991, 1996, 1999, 2003, 8675309]\n"
     ]
    }
   ],
   "source": [
    "print('Ages :', end = \" \")\n",
    "print(sorted(list(data['age'].unique())))"
   ]
  },
  {
   "cell_type": "code",
   "execution_count": 17,
   "metadata": {},
   "outputs": [
    {
     "data": {
      "text/plain": [
       "10"
      ]
     },
     "execution_count": 17,
     "metadata": {},
     "output_type": "execute_result"
    }
   ],
   "source": [
    "len(data[data['age'] >= 200])"
   ]
  },
  {
   "cell_type": "markdown",
   "metadata": {},
   "source": [
    "Clearly the rows with value above 200 are irrelevant and the corresponding response cannot be trusted, so we need to delete these rows. Also since there are very few such rows it is relevant to delete them"
   ]
  },
  {
   "cell_type": "code",
   "execution_count": 18,
   "metadata": {},
   "outputs": [],
   "source": [
    "# rows to be deleted\n",
    "target = [i for i in range(len(data)) if data['age'][i] >= 200]"
   ]
  },
  {
   "cell_type": "code",
   "execution_count": 19,
   "metadata": {},
   "outputs": [
    {
     "data": {
      "text/plain": [
       "[1295, 1764, 2892, 3819, 4026, 4162, 4665, 5450, 6832, 6918]"
      ]
     },
     "execution_count": 19,
     "metadata": {},
     "output_type": "execute_result"
    }
   ],
   "source": [
    "target"
   ]
  },
  {
   "cell_type": "code",
   "execution_count": 20,
   "metadata": {},
   "outputs": [],
   "source": [
    "# Deleting the rows\n",
    "data.drop(target, axis = 0, inplace = True)\n",
    "data = data.reset_index(drop = True)"
   ]
  },
  {
   "cell_type": "markdown",
   "metadata": {},
   "source": [
    "### Checking the validity of ordinal features"
   ]
  },
  {
   "cell_type": "code",
   "execution_count": 21,
   "metadata": {},
   "outputs": [
    {
     "name": "stdout",
     "output_type": "stream",
     "text": [
      "The data is valid\n"
     ]
    }
   ],
   "source": [
    "invalid = False\n",
    "for column in data.columns:\n",
    "    if column[0] == 'Q' and column[-1] == 'A':\n",
    "        for val in data[column].unique():\n",
    "            # Check the codebook for the reason of this condition\n",
    "            if val < 1 or val > 5:\n",
    "                invalid = True\n",
    "if invalid:\n",
    "    print(\"The ordinal features has invalid data\")\n",
    "else:\n",
    "    print(\"The data is valid\")"
   ]
  },
  {
   "cell_type": "markdown",
   "metadata": {},
   "source": [
    "### Hence, now the data is valid, clean & ready to be used"
   ]
  },
  {
   "cell_type": "markdown",
   "metadata": {},
   "source": [
    "# Exporting cleaned data"
   ]
  },
  {
   "cell_type": "code",
   "execution_count": 22,
   "metadata": {},
   "outputs": [],
   "source": [
    "data.to_csv('./MIES_Dev_Data/cleaned_data.csv')"
   ]
  },
  {
   "cell_type": "code",
   "execution_count": null,
   "metadata": {},
   "outputs": [],
   "source": []
  }
 ],
 "metadata": {
  "kernelspec": {
   "display_name": "Python 3",
   "language": "python",
   "name": "python3"
  },
  "language_info": {
   "codemirror_mode": {
    "name": "ipython",
    "version": 3
   },
   "file_extension": ".py",
   "mimetype": "text/x-python",
   "name": "python",
   "nbconvert_exporter": "python",
   "pygments_lexer": "ipython3",
   "version": "3.7.4"
  }
 },
 "nbformat": 4,
 "nbformat_minor": 4
}
